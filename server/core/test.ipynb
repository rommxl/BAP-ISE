{
 "cells": [
  {
   "cell_type": "code",
   "execution_count": 74,
   "metadata": {},
   "outputs": [],
   "source": [
    "import pandas as pd\n",
    "from datetime import datetime\n",
    "import numpy as np"
   ]
  },
  {
   "cell_type": "code",
   "execution_count": 75,
   "metadata": {},
   "outputs": [],
   "source": [
    "url = \"./data.csv\""
   ]
  },
  {
   "cell_type": "code",
   "execution_count": 76,
   "metadata": {},
   "outputs": [],
   "source": [
    "df = pd.read_csv(url)"
   ]
  },
  {
   "cell_type": "code",
   "execution_count": 77,
   "metadata": {},
   "outputs": [],
   "source": [
    "(pd.Series(df['Product Type'].unique())).to_json('item maps.json')"
   ]
  },
  {
   "cell_type": "code",
   "execution_count": 78,
   "metadata": {},
   "outputs": [],
   "source": [
    "search = {'Date': '02/2007', 'Supplier': '', 'Lab': 4, 'Product Type': 'Software'}"
   ]
  },
  {
   "cell_type": "code",
   "execution_count": 79,
   "metadata": {},
   "outputs": [
    {
     "data": {
      "text/html": [
       "<div>\n",
       "<style scoped>\n",
       "    .dataframe tbody tr th:only-of-type {\n",
       "        vertical-align: middle;\n",
       "    }\n",
       "\n",
       "    .dataframe tbody tr th {\n",
       "        vertical-align: top;\n",
       "    }\n",
       "\n",
       "    .dataframe thead th {\n",
       "        text-align: right;\n",
       "    }\n",
       "</style>\n",
       "<table border=\"1\" class=\"dataframe\">\n",
       "  <thead>\n",
       "    <tr style=\"text-align: right;\">\n",
       "      <th></th>\n",
       "      <th>Sr</th>\n",
       "      <th>Description</th>\n",
       "      <th>Qty</th>\n",
       "      <th>Date</th>\n",
       "      <th>Supplier</th>\n",
       "      <th>Main</th>\n",
       "      <th>Lab</th>\n",
       "      <th>Amount</th>\n",
       "      <th>Product Type</th>\n",
       "      <th>Remarks</th>\n",
       "    </tr>\n",
       "  </thead>\n",
       "  <tbody>\n",
       "  </tbody>\n",
       "</table>\n",
       "</div>"
      ],
      "text/plain": [
       "Empty DataFrame\n",
       "Columns: [Sr, Description, Qty, Date, Supplier, Main, Lab, Amount, Product Type, Remarks]\n",
       "Index: []"
      ]
     },
     "execution_count": 79,
     "metadata": {},
     "output_type": "execute_result"
    }
   ],
   "source": [
    "new_df[(new_df['Lab'] == 3.0)]"
   ]
  },
  {
   "cell_type": "code",
   "execution_count": 80,
   "metadata": {},
   "outputs": [
    {
     "name": "stdout",
     "output_type": "stream",
     "text": [
      "When Date is 02/2007\n",
      "When Supplier is \n",
      "When Lab is 4\n",
      "\n",
      "4.0\n",
      "When Product Type is Software\n"
     ]
    },
    {
     "data": {
      "text/html": [
       "<div>\n",
       "<style scoped>\n",
       "    .dataframe tbody tr th:only-of-type {\n",
       "        vertical-align: middle;\n",
       "    }\n",
       "\n",
       "    .dataframe tbody tr th {\n",
       "        vertical-align: top;\n",
       "    }\n",
       "\n",
       "    .dataframe thead th {\n",
       "        text-align: right;\n",
       "    }\n",
       "</style>\n",
       "<table border=\"1\" class=\"dataframe\">\n",
       "  <thead>\n",
       "    <tr style=\"text-align: right;\">\n",
       "      <th></th>\n",
       "      <th>Sr</th>\n",
       "      <th>Description</th>\n",
       "      <th>Qty</th>\n",
       "      <th>Date</th>\n",
       "      <th>Supplier</th>\n",
       "      <th>Main</th>\n",
       "      <th>Lab</th>\n",
       "      <th>Amount</th>\n",
       "      <th>Product Type</th>\n",
       "      <th>Remarks</th>\n",
       "    </tr>\n",
       "  </thead>\n",
       "  <tbody>\n",
       "    <tr>\n",
       "      <th>3</th>\n",
       "      <td>4</td>\n",
       "      <td>Windows Vista Business Upgrade</td>\n",
       "      <td>1.0</td>\n",
       "      <td>2007-02-05</td>\n",
       "      <td>LDS</td>\n",
       "      <td>13</td>\n",
       "      <td>4.0</td>\n",
       "      <td>21381.0</td>\n",
       "      <td>Software</td>\n",
       "      <td>HOD Cabin Cupboard</td>\n",
       "    </tr>\n",
       "  </tbody>\n",
       "</table>\n",
       "</div>"
      ],
      "text/plain": [
       "   Sr                     Description  Qty       Date Supplier  Main  Lab  \\\n",
       "3   4  Windows Vista Business Upgrade  1.0 2007-02-05      LDS    13  4.0   \n",
       "\n",
       "    Amount Product Type             Remarks  \n",
       "3  21381.0     Software  HOD Cabin Cupboard  "
      ]
     },
     "execution_count": 80,
     "metadata": {},
     "output_type": "execute_result"
    }
   ],
   "source": [
    "new_df = df.copy()\n",
    "new_df['Date'] = pd.to_datetime(new_df['Date'], format='%d/%m/%Y')\n",
    "\n",
    "new_df['Lab']\n",
    "for param in search.keys():\n",
    "    print(f\"When {param} is {search[param]}\")\n",
    "    if(search[param] == None or (type(search[param])!=int and len(search[param]) == 0)):\n",
    "        continue\n",
    "    if(param == 'Description'):\n",
    "        new_df = new_df[new_df['Description'].str.contains(search[param])]\n",
    "    if(param == 'Lab'):\n",
    "        # if(search[param] == None):\n",
    "        #     continue\n",
    "        # else:\n",
    "        print()\n",
    "        print(float(search[param]))\n",
    "        new_df = new_df[new_df['Lab'] == search[param]]\n",
    "    if(param == 'Date'):\n",
    "        new_df = new_df[new_df['Date'] >= pd.to_datetime(search['Date'], format='%m/%Y')]\n",
    "    # if(param == 'Product Type'):\n",
    "    #     if(search[param] == None):\n",
    "    #         continue\n",
    "    else:\n",
    "        new_df = new_df[new_df[param] == search[param]]\n",
    "\n",
    "new_df"
   ]
  },
  {
   "cell_type": "code",
   "execution_count": 81,
   "metadata": {},
   "outputs": [
    {
     "name": "stdout",
     "output_type": "stream",
     "text": [
      "<class 'pandas.core.frame.DataFrame'>\n",
      "Index: 1 entries, 3 to 3\n",
      "Data columns (total 10 columns):\n",
      " #   Column        Non-Null Count  Dtype         \n",
      "---  ------        --------------  -----         \n",
      " 0   Sr            1 non-null      int64         \n",
      " 1   Description   1 non-null      object        \n",
      " 2   Qty           1 non-null      float64       \n",
      " 3   Date          1 non-null      datetime64[ns]\n",
      " 4   Supplier      1 non-null      object        \n",
      " 5   Main          1 non-null      int64         \n",
      " 6   Lab           1 non-null      float64       \n",
      " 7   Amount        1 non-null      float64       \n",
      " 8   Product Type  1 non-null      object        \n",
      " 9   Remarks       1 non-null      object        \n",
      "dtypes: datetime64[ns](1), float64(3), int64(2), object(4)\n",
      "memory usage: 88.0+ bytes\n"
     ]
    }
   ],
   "source": [
    "new_df.info()"
   ]
  },
  {
   "cell_type": "code",
   "execution_count": 82,
   "metadata": {},
   "outputs": [
    {
     "data": {
      "text/plain": [
       "{'Sr': {0: 1, 1: 2, 2: 3, 3: 4, 4: 5},\n",
       " 'Description': {0: 'Epson Dot Matrix Printer',\n",
       "  1: 'Windows Vista Business Upgrade',\n",
       "  2: 'MS Visio Professional',\n",
       "  3: 'Windows Vista Business Upgrade',\n",
       "  4: 'Turbo Assembler TASM'},\n",
       " 'Qty': {0: 2.0, 1: 50.0, 2: 1.0, 3: 1.0, 4: 2.0},\n",
       " 'Date': {0: '31/01/2007',\n",
       "  1: '06/03/2007',\n",
       "  2: '02/03/2007',\n",
       "  3: '05/02/2007',\n",
       "  4: '05/03/2007'},\n",
       " 'Supplier': {0: 'RNT', 1: 'RNT', 2: 'LDS', 3: 'LDS', 4: 'LDS'},\n",
       " 'Main': {0: 8, 1: 9, 2: 12, 3: 13, 4: 14},\n",
       " 'Lab': {0: 3.0, 1: 10.0, 2: 3.0, 3: 4.0, 4: 6.0},\n",
       " 'Amount': {0: 17300.0, 1: 143500.0, 2: 4750.0, 3: 21381.0, 4: 5512.0},\n",
       " 'Product Type': {0: 'Printer',\n",
       "  1: 'Upgrade',\n",
       "  2: 'Software',\n",
       "  3: 'Software',\n",
       "  4: 'Software'},\n",
       " 'Remarks': {0: 'Installed in FE Lab',\n",
       "  1: 'Kept in software cupboard for entire college',\n",
       "  2: 'HOD Cabin Cupboard',\n",
       "  3: 'HOD Cabin Cupboard',\n",
       "  4: 'HOD Cabin Cupboard'}}"
      ]
     },
     "execution_count": 82,
     "metadata": {},
     "output_type": "execute_result"
    }
   ],
   "source": [
    "df.head().to_dict()"
   ]
  },
  {
   "cell_type": "code",
   "execution_count": null,
   "metadata": {},
   "outputs": [],
   "source": []
  }
 ],
 "metadata": {
  "kernelspec": {
   "display_name": "ml",
   "language": "python",
   "name": "python3"
  },
  "language_info": {
   "codemirror_mode": {
    "name": "ipython",
    "version": 3
   },
   "file_extension": ".py",
   "mimetype": "text/x-python",
   "name": "python",
   "nbconvert_exporter": "python",
   "pygments_lexer": "ipython3",
   "version": "3.10.13"
  }
 },
 "nbformat": 4,
 "nbformat_minor": 2
}
