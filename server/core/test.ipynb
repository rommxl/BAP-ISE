{
 "cells": [
  {
   "cell_type": "code",
   "execution_count": 258,
   "metadata": {},
   "outputs": [],
   "source": [
    "import pandas as pd\n",
    "from datetime import datetime\n",
    "import numpy as np"
   ]
  },
  {
   "cell_type": "code",
   "execution_count": 259,
   "metadata": {},
   "outputs": [],
   "source": [
    "url = \"./data.csv\""
   ]
  },
  {
   "cell_type": "code",
   "execution_count": 260,
   "metadata": {},
   "outputs": [],
   "source": [
    "df = pd.read_csv(url)"
   ]
  },
  {
   "cell_type": "code",
   "execution_count": 261,
   "metadata": {},
   "outputs": [],
   "source": [
    "(pd.Series(df['Product Type'].unique())).to_json('item maps.json')"
   ]
  },
  {
   "cell_type": "code",
   "execution_count": 262,
   "metadata": {},
   "outputs": [],
   "source": [
    "search = {'Date': '', 'Supplier': 'RNT', 'Lab': None, 'Product Type': 'Printer'}"
   ]
  },
  {
   "cell_type": "code",
   "execution_count": 263,
   "metadata": {},
   "outputs": [
    {
     "name": "stdout",
     "output_type": "stream",
     "text": [
      "When Date is 11/2005\n",
      "When Description is DELL Desktop\n",
      "When Lab is 10\n"
     ]
    },
    {
     "data": {
      "text/html": [
       "<div>\n",
       "<style scoped>\n",
       "    .dataframe tbody tr th:only-of-type {\n",
       "        vertical-align: middle;\n",
       "    }\n",
       "\n",
       "    .dataframe tbody tr th {\n",
       "        vertical-align: top;\n",
       "    }\n",
       "\n",
       "    .dataframe thead th {\n",
       "        text-align: right;\n",
       "    }\n",
       "</style>\n",
       "<table border=\"1\" class=\"dataframe\">\n",
       "  <thead>\n",
       "    <tr style=\"text-align: right;\">\n",
       "      <th></th>\n",
       "      <th>Sr</th>\n",
       "      <th>Description</th>\n",
       "      <th>Qty</th>\n",
       "      <th>Date</th>\n",
       "      <th>Supplier</th>\n",
       "      <th>Main</th>\n",
       "      <th>Lab</th>\n",
       "      <th>Amount</th>\n",
       "      <th>Product Type</th>\n",
       "      <th>Remarks</th>\n",
       "    </tr>\n",
       "  </thead>\n",
       "  <tbody>\n",
       "    <tr>\n",
       "      <th>35</th>\n",
       "      <td>36</td>\n",
       "      <td>DELL Desktop</td>\n",
       "      <td>5.0</td>\n",
       "      <td>2013-12-31</td>\n",
       "      <td>RNT</td>\n",
       "      <td>53</td>\n",
       "      <td>10.0</td>\n",
       "      <td>142963.0</td>\n",
       "      <td>Desktop</td>\n",
       "      <td>IIC Lab(Room-604)</td>\n",
       "    </tr>\n",
       "    <tr>\n",
       "      <th>36</th>\n",
       "      <td>37</td>\n",
       "      <td>DELL Desktop</td>\n",
       "      <td>1.0</td>\n",
       "      <td>2013-12-31</td>\n",
       "      <td>RNT</td>\n",
       "      <td>53</td>\n",
       "      <td>10.0</td>\n",
       "      <td>28593.0</td>\n",
       "      <td>Desktop</td>\n",
       "      <td>Prof.A.A.Godbole</td>\n",
       "    </tr>\n",
       "    <tr>\n",
       "      <th>37</th>\n",
       "      <td>38</td>\n",
       "      <td>DELL Desktop</td>\n",
       "      <td>2.0</td>\n",
       "      <td>2013-12-31</td>\n",
       "      <td>RNT</td>\n",
       "      <td>53</td>\n",
       "      <td>10.0</td>\n",
       "      <td>57185.0</td>\n",
       "      <td>Desktop</td>\n",
       "      <td>Prof.Natasha Raul</td>\n",
       "    </tr>\n",
       "    <tr>\n",
       "      <th>38</th>\n",
       "      <td>39</td>\n",
       "      <td>DELL Desktop</td>\n",
       "      <td>4.0</td>\n",
       "      <td>2013-12-31</td>\n",
       "      <td>RNT</td>\n",
       "      <td>53</td>\n",
       "      <td>10.0</td>\n",
       "      <td>114370.0</td>\n",
       "      <td>Desktop</td>\n",
       "      <td>Dr.Y.S.Rao(3rd floor Lab)</td>\n",
       "    </tr>\n",
       "    <tr>\n",
       "      <th>39</th>\n",
       "      <td>40</td>\n",
       "      <td>DELL Desktop</td>\n",
       "      <td>6.0</td>\n",
       "      <td>2013-12-31</td>\n",
       "      <td>RNT</td>\n",
       "      <td>54</td>\n",
       "      <td>10.0</td>\n",
       "      <td>276000.0</td>\n",
       "      <td>Desktop</td>\n",
       "      <td>IIC LAB (Room-604)</td>\n",
       "    </tr>\n",
       "    <tr>\n",
       "      <th>40</th>\n",
       "      <td>41</td>\n",
       "      <td>DELL Desktop</td>\n",
       "      <td>1.0</td>\n",
       "      <td>2013-12-31</td>\n",
       "      <td>RNT</td>\n",
       "      <td>54</td>\n",
       "      <td>10.0</td>\n",
       "      <td>46000.0</td>\n",
       "      <td>Desktop</td>\n",
       "      <td>Issued to Dr.Surendra Rathod sir in Room=303</td>\n",
       "    </tr>\n",
       "    <tr>\n",
       "      <th>41</th>\n",
       "      <td>42</td>\n",
       "      <td>DELL Desktop</td>\n",
       "      <td>1.0</td>\n",
       "      <td>2013-12-31</td>\n",
       "      <td>RNT</td>\n",
       "      <td>54</td>\n",
       "      <td>10.0</td>\n",
       "      <td>46000.0</td>\n",
       "      <td>Desktop</td>\n",
       "      <td>Room-604 HOD Cabin Dr.D.R.Kalbande</td>\n",
       "    </tr>\n",
       "    <tr>\n",
       "      <th>42</th>\n",
       "      <td>43</td>\n",
       "      <td>DELL Desktop</td>\n",
       "      <td>1.0</td>\n",
       "      <td>2013-12-31</td>\n",
       "      <td>RNT</td>\n",
       "      <td>54</td>\n",
       "      <td>10.0</td>\n",
       "      <td>46000.0</td>\n",
       "      <td>Desktop</td>\n",
       "      <td>Dr.Y.S.Rao (3rd floor Lab)</td>\n",
       "    </tr>\n",
       "  </tbody>\n",
       "</table>\n",
       "</div>"
      ],
      "text/plain": [
       "    Sr   Description  Qty       Date Supplier  Main   Lab    Amount  \\\n",
       "35  36  DELL Desktop  5.0 2013-12-31      RNT    53  10.0  142963.0   \n",
       "36  37  DELL Desktop  1.0 2013-12-31      RNT    53  10.0   28593.0   \n",
       "37  38  DELL Desktop  2.0 2013-12-31      RNT    53  10.0   57185.0   \n",
       "38  39  DELL Desktop  4.0 2013-12-31      RNT    53  10.0  114370.0   \n",
       "39  40  DELL Desktop  6.0 2013-12-31      RNT    54  10.0  276000.0   \n",
       "40  41  DELL Desktop  1.0 2013-12-31      RNT    54  10.0   46000.0   \n",
       "41  42  DELL Desktop  1.0 2013-12-31      RNT    54  10.0   46000.0   \n",
       "42  43  DELL Desktop  1.0 2013-12-31      RNT    54  10.0   46000.0   \n",
       "\n",
       "   Product Type                                       Remarks  \n",
       "35      Desktop                             IIC Lab(Room-604)  \n",
       "36      Desktop                              Prof.A.A.Godbole  \n",
       "37      Desktop                             Prof.Natasha Raul  \n",
       "38      Desktop                     Dr.Y.S.Rao(3rd floor Lab)  \n",
       "39      Desktop                            IIC LAB (Room-604)  \n",
       "40      Desktop  Issued to Dr.Surendra Rathod sir in Room=303  \n",
       "41      Desktop            Room-604 HOD Cabin Dr.D.R.Kalbande  \n",
       "42      Desktop                    Dr.Y.S.Rao (3rd floor Lab)  "
      ]
     },
     "execution_count": 263,
     "metadata": {},
     "output_type": "execute_result"
    }
   ],
   "source": [
    "new_df = df.copy()\n",
    "new_df['Date'] = pd.to_datetime(new_df['Date'], format='%d/%m/%Y')\n",
    "\n",
    "for param in search.keys():\n",
    "    print(f\"When {param} is {search[param]}\")\n",
    "    if(param == 'Description'):\n",
    "        new_df = new_df[new_df['Description'].str.contains(search[param])]\n",
    "    if(param == 'Lab'):\n",
    "        if(search[param] != None):\n",
    "            new_df = new_df[new_df['Lab'] == int(search[param])]\n",
    "    if(param == 'Date'):\n",
    "        new_df = new_df[new_df['Date'] >= pd.to_datetime(search['Date'], format='%m/%Y')]\n",
    "    if(param == 'Product Type' and search[param] == 'All'):\n",
    "        continue\n",
    "    else:\n",
    "        new_df = new_df[new_df[param] == search[param]]\n",
    "    \n",
    "new_df"
   ]
  },
  {
   "cell_type": "code",
   "execution_count": 264,
   "metadata": {},
   "outputs": [
    {
     "name": "stdout",
     "output_type": "stream",
     "text": [
      "<class 'pandas.core.frame.DataFrame'>\n",
      "Index: 8 entries, 35 to 42\n",
      "Data columns (total 10 columns):\n",
      " #   Column        Non-Null Count  Dtype         \n",
      "---  ------        --------------  -----         \n",
      " 0   Sr            8 non-null      int64         \n",
      " 1   Description   8 non-null      object        \n",
      " 2   Qty           8 non-null      float64       \n",
      " 3   Date          8 non-null      datetime64[ns]\n",
      " 4   Supplier      8 non-null      object        \n",
      " 5   Main          8 non-null      int64         \n",
      " 6   Lab           8 non-null      float64       \n",
      " 7   Amount        8 non-null      float64       \n",
      " 8   Product Type  8 non-null      object        \n",
      " 9   Remarks       8 non-null      object        \n",
      "dtypes: datetime64[ns](1), float64(3), int64(2), object(4)\n",
      "memory usage: 704.0+ bytes\n"
     ]
    }
   ],
   "source": [
    "new_df.info()"
   ]
  },
  {
   "cell_type": "code",
   "execution_count": 265,
   "metadata": {},
   "outputs": [
    {
     "data": {
      "text/plain": [
       "{'Sr': {0: 1, 1: 2, 2: 3, 3: 4, 4: 5},\n",
       " 'Description': {0: 'Epson Dot Matrix Printer',\n",
       "  1: 'Windows Vista Business Upgrade',\n",
       "  2: 'MS Visio Professional',\n",
       "  3: 'Windows Vista Business Upgrade',\n",
       "  4: 'Turbo Assembler TASM'},\n",
       " 'Qty': {0: 2.0, 1: 50.0, 2: 1.0, 3: 1.0, 4: 2.0},\n",
       " 'Date': {0: '31/01/2007',\n",
       "  1: '06/03/2007',\n",
       "  2: '02/03/2007',\n",
       "  3: '05/02/2007',\n",
       "  4: '05/03/2007'},\n",
       " 'Supplier': {0: 'RNT', 1: 'RNT', 2: 'LDS', 3: 'LDS', 4: 'LDS'},\n",
       " 'Main': {0: 8, 1: 9, 2: 12, 3: 13, 4: 14},\n",
       " 'Lab': {0: 3.0, 1: 10.0, 2: 3.0, 3: 4.0, 4: 6.0},\n",
       " 'Amount': {0: 17300.0, 1: 143500.0, 2: 4750.0, 3: 21381.0, 4: 5512.0},\n",
       " 'Product Type': {0: 'Printer',\n",
       "  1: 'Upgrade',\n",
       "  2: 'Software',\n",
       "  3: 'Software',\n",
       "  4: 'Software'},\n",
       " 'Remarks': {0: 'Installed in FE Lab',\n",
       "  1: 'Kept in software cupboard for entire college',\n",
       "  2: 'HOD Cabin Cupboard',\n",
       "  3: 'HOD Cabin Cupboard',\n",
       "  4: 'HOD Cabin Cupboard'}}"
      ]
     },
     "execution_count": 265,
     "metadata": {},
     "output_type": "execute_result"
    }
   ],
   "source": [
    "df.head().to_dict()"
   ]
  },
  {
   "cell_type": "code",
   "execution_count": null,
   "metadata": {},
   "outputs": [],
   "source": []
  }
 ],
 "metadata": {
  "kernelspec": {
   "display_name": "ml",
   "language": "python",
   "name": "python3"
  },
  "language_info": {
   "codemirror_mode": {
    "name": "ipython",
    "version": 3
   },
   "file_extension": ".py",
   "mimetype": "text/x-python",
   "name": "python",
   "nbconvert_exporter": "python",
   "pygments_lexer": "ipython3",
   "version": "3.10.13"
  }
 },
 "nbformat": 4,
 "nbformat_minor": 2
}
